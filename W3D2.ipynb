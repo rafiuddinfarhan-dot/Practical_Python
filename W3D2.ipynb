{
 "cells": [
  {
   "cell_type": "code",
   "execution_count": 22,
   "id": "29a959e7",
   "metadata": {},
   "outputs": [
    {
     "data": {
      "text/plain": [
       "list"
      ]
     },
     "execution_count": 22,
     "metadata": {},
     "output_type": "execute_result"
    }
   ],
   "source": [
    "students = [{'name': 'Hashim' ,'age' :18 ,'grade' :'B', 'marks':81},\n",
    "            {'name': 'Salman' ,'age' :11 ,'grade' :'A', 'marks':81},\n",
    "            {'name': 'Mazhar' ,'age' :12 ,'grade' :'C', 'marks':81},\n",
    "            {'name': 'Farhan' ,'age' :22 ,'grade' :'D', 'marks':81},\n",
    "            {'name': 'Bilal' ,'age' :19 ,'grade' :'A', 'marks':81},\n",
    "            {'name': 'Zalaid' ,'age' :17 ,'grade' :'B', 'marks':81},\n",
    "            \n",
    "            \n",
    "            ]\n",
    "type(students)"
   ]
  },
  {
   "cell_type": "code",
   "execution_count": 14,
   "id": "14adced8",
   "metadata": {},
   "outputs": [
    {
     "name": "stdout",
     "output_type": "stream",
     "text": [
      "{'name': 'Hashim', 'age': 18, 'grade': 'B', 'marks': 81}\n",
      "{'name': 'Salman', 'age': 11, 'grade': 'A', 'marks': 81}\n",
      "{'name': 'Mazhar', 'age': 12, 'grade': 'C', 'marks': 81}\n",
      "{'name': 'Farhan', 'age': 22, 'grade': 'D', 'marks': 81}\n",
      "{'name': 'Bilal', 'age': 19, 'grade': 'A', 'marks': 81}\n",
      "{'name': 'Zalaid', 'age': 17, 'grade': 'B', 'marks': 81}\n"
     ]
    },
    {
     "data": {
      "text/plain": [
       "[{'name': 'Salman', 'age': 11, 'grade': 'A', 'marks': 81},\n",
       " {'name': 'Mazhar', 'age': 12, 'grade': 'C', 'marks': 81},\n",
       " {'name': 'Zalaid', 'age': 17, 'grade': 'B', 'marks': 81},\n",
       " {'name': 'Hashim', 'age': 18, 'grade': 'B', 'marks': 81},\n",
       " {'name': 'Bilal', 'age': 19, 'grade': 'A', 'marks': 81},\n",
       " {'name': 'Farhan', 'age': 22, 'grade': 'D', 'marks': 81}]"
      ]
     },
     "execution_count": 14,
     "metadata": {},
     "output_type": "execute_result"
    }
   ],
   "source": [
    "def func1(item):\n",
    "    print(item)\n",
    "    return item['age']\n",
    "a=sorted(students,key=func1) \n",
    "a"
   ]
  },
  {
   "cell_type": "code",
   "execution_count": 15,
   "id": "11046531",
   "metadata": {},
   "outputs": [
    {
     "data": {
      "text/plain": [
       "[{'name': 'Hashim', 'age': 18, 'grade': 'B', 'marks': 81},\n",
       " {'name': 'Salman', 'age': 11, 'grade': 'A', 'marks': 23},\n",
       " {'name': 'Mazhar', 'age': 12, 'grade': 'C', 'marks': 81},\n",
       " {'name': 'Farhan', 'age': 22, 'grade': 'D', 'marks': 81},\n",
       " {'name': 'Bilal', 'age': 19, 'grade': 'A', 'marks': 81},\n",
       " {'name': 'Zalaid', 'age': 17, 'grade': 'B', 'marks': 81}]"
      ]
     },
     "execution_count": 15,
     "metadata": {},
     "output_type": "execute_result"
    }
   ],
   "source": [
    "students2=students\n",
    "students2[1]['marks']=23\n",
    "students2"
   ]
  },
  {
   "cell_type": "code",
   "execution_count": 19,
   "id": "0d521cbd",
   "metadata": {},
   "outputs": [
    {
     "data": {
      "text/plain": [
       "[('name', 'Salman'), ('age', 11), ('grade', 'A'), ('marks', 23)]"
      ]
     },
     "execution_count": 19,
     "metadata": {},
     "output_type": "execute_result"
    }
   ],
   "source": [
    "l1=list(students2[1].items())\n",
    "type(l1)\n",
    "l1"
   ]
  },
  {
   "cell_type": "code",
   "execution_count": 35,
   "id": "af3fddb5",
   "metadata": {},
   "outputs": [
    {
     "name": "stdout",
     "output_type": "stream",
     "text": [
      "Shallow Copy\n",
      "s1:  {'name': 'Salman', 'age': 11, 'grade': 'A', 'marks': 81}\n",
      "s3:  {'name': 'Salman', 'age': 11, 'grade': 'A', 'marks': 81}\n",
      "\n",
      "\n",
      "After updating the value of s3 only\n",
      "\n",
      "s1:  {'name': 'Salman', 'age': 11, 'grade': 'A', 'marks': 34}\n",
      "s3:  {'name': 'Salman', 'age': 11, 'grade': 'A', 'marks': 34}\n"
     ]
    }
   ],
   "source": [
    "import copy\n",
    "students = [{'name': 'Hashim' ,'age' :18 ,'grade' :'B', 'marks':81},\n",
    "            {'name': 'Salman' ,'age' :11 ,'grade' :'A', 'marks':81},\n",
    "            {'name': 'Mazhar' ,'age' :12 ,'grade' :'C', 'marks':81},\n",
    "            {'name': 'Farhan' ,'age' :22 ,'grade' :'D', 'marks':81},\n",
    "            {'name': 'Bilal' ,'age' :19 ,'grade' :'A', 'marks':81},\n",
    "            {'name': 'Zalaid' ,'age' :17 ,'grade' :'B', 'marks':81},\n",
    "            \n",
    "            \n",
    "            ]\n",
    "#students3= students.copy()\n",
    "students3= copy.copy(students)\n",
    "print('Shallow Copy')\n",
    "print('s1: ',students[1])\n",
    "print('s3: ',students3[1])\n",
    "students3[1]['marks']=34\n",
    "print('\\n\\nAfter updating the value of s3 only\\n')\n",
    "print('s1: ',students[1])\n",
    "print('s3: ',students3[1])"
   ]
  },
  {
   "cell_type": "code",
   "execution_count": 34,
   "id": "770cc898",
   "metadata": {},
   "outputs": [
    {
     "name": "stdout",
     "output_type": "stream",
     "text": [
      "Deep Copy\n",
      "s1:  {'name': 'Salman', 'age': 11, 'grade': 'A', 'marks': 81}\n",
      "s3:  {'name': 'Salman', 'age': 11, 'grade': 'A', 'marks': 81}\n",
      "\n",
      "\n",
      "After updating the value of s3 only\n",
      "\n",
      "s1:  {'name': 'Salman', 'age': 11, 'grade': 'A', 'marks': 81}\n",
      "s3:  {'name': 'Salman', 'age': 11, 'grade': 'A', 'marks': 34}\n"
     ]
    }
   ],
   "source": [
    "import copy\n",
    "students = [{'name': 'Hashim' ,'age' :18 ,'grade' :'B', 'marks':81},\n",
    "            {'name': 'Salman' ,'age' :11 ,'grade' :'A', 'marks':81},\n",
    "            {'name': 'Mazhar' ,'age' :12 ,'grade' :'C', 'marks':81},\n",
    "            {'name': 'Farhan' ,'age' :22 ,'grade' :'D', 'marks':81},\n",
    "            {'name': 'Bilal' ,'age' :19 ,'grade' :'A', 'marks':81},\n",
    "            {'name': 'Zalaid' ,'age' :17 ,'grade' :'B', 'marks':81},\n",
    "            \n",
    "            \n",
    "            ]\n",
    "students3= copy.deepcopy(students)\n",
    "print('Deep Copy')\n",
    "print('s1: ',students[1])\n",
    "print('s3: ',students3[1])\n",
    "students3[1]['marks']=34\n",
    "print('\\n\\nAfter updating the value of s3 only\\n')\n",
    "print('s1: ',students[1])\n",
    "print('s3: ',students3[1])"
   ]
  },
  {
   "cell_type": "code",
   "execution_count": 36,
   "id": "dd46241d",
   "metadata": {},
   "outputs": [],
   "source": [
    "d= {(1,2):''}"
   ]
  },
  {
   "cell_type": "code",
   "execution_count": null,
   "id": "b6242a42",
   "metadata": {},
   "outputs": [
    {
     "data": {
      "text/plain": [
       "{'Lions': ('Ali', 'Sara'), 'Tigers': ('Omar', 'Fatima')}"
      ]
     },
     "execution_count": 57,
     "metadata": {},
     "output_type": "execute_result"
    }
   ],
   "source": []
  },
  {
   "cell_type": "code",
   "execution_count": null,
   "id": "c7d2e312",
   "metadata": {},
   "outputs": [
    {
     "name": "stdout",
     "output_type": "stream",
     "text": [
      "Before Trade\n",
      "['Sara', 'Ali', 'Farhan']\n",
      "['Fatima', 'Omar', 'Rafi', 'Amna']\n",
      "\n",
      "\n",
      "After Trade\n",
      "Lions:  ['Ali', 'Farhan', 'Fatima']\n",
      "Tigers:  ['Omar', 'Rafi', 'Amna', 'Sara']\n",
      "\n",
      "\n",
      "Adding Ayesha to lions\n",
      "\n",
      "\n",
      "Lions after adding Ayesha:  ['Ali', 'Farhan', 'Fatima', 'Ayesha']\n",
      "[('Lions', ('Ali', 'Sara', 'Farhan')), ('Tigers', ('Omar', 'Rafi', 'Fatima', 'Rafi', 'Amna'))]\n",
      "list 1:  ['Lions', ('Ali', 'Sara', 'Farhan')]\n",
      "list 1:  ['Tigers', ('Omar', 'Rafi', 'Fatima', 'Rafi', 'Amna')]\n",
      "\n",
      "\n",
      "After swaping keys:\n",
      "\n",
      "\n",
      "list 1:  ['Tigers', ('Ali', 'Sara', 'Farhan')]\n",
      "\n",
      "list 2:  ['Lions', ('Omar', 'Rafi', 'Fatima', 'Rafi', 'Amna')]\n",
      "\n"
     ]
    },
    {
     "data": {
      "text/plain": [
       "('Tigers',\n",
       " ('Ali', 'Sara', 'Farhan'),\n",
       " 'Lions',\n",
       " ('Omar', 'Rafi', 'Fatima', 'Rafi', 'Amna'))"
      ]
     },
     "execution_count": 3,
     "metadata": {},
     "output_type": "execute_result"
    }
   ],
   "source": [
    "teams={'Lions': ('Ali' ,'Sara', 'Farhan'),\n",
    "       'Tigers': ('Omar' ,'Rafi','Fatima','Rafi','Amna')\n",
    "       }\n",
    "teams\n",
    "\n",
    "#print(type(teams.get('Lions')))\n",
    "#Remove duplications as well\n",
    "t1=list(set(teams.get('Lions')))\n",
    "\n",
    "t2=list(set(teams.get('Tigers')))\n",
    "print ('Before Trade')\n",
    "print(t1)\n",
    "print(t2)\n",
    "Findex=t2.index('Fatima')\n",
    "#print('Findex: ', Findex)\n",
    "\n",
    "t1.append(t2.pop(Findex))\n",
    "#print('T1:  ',t1)\n",
    "Sindex=t1.index('Sara')\n",
    "t2.append(t1.pop(Sindex))\n",
    "print ('\\n\\nAfter Trade')\n",
    "print('Lions: ',t1)\n",
    "print('Tigers: ',t2)\n",
    "\n",
    "print('\\n\\nAdding Ayesha to lions')\n",
    "t1.append('Ayesha')\n",
    "print('\\n\\nLions after adding Ayesha: ', t1)\n",
    "\n",
    "\n",
    "tupl=teams.items()\n",
    "l1=list(tupl)\n",
    "print(l1)\n",
    "\n",
    "list1=list(l1[0])\n",
    "list2=list(l1[1])\n",
    "print('list 1: ',list1)\n",
    "print('list 1: ',list2)\n",
    "#a=list2.pop(0)\n",
    "\n",
    "list1.insert(0,list2.pop(0))\n",
    "list2.insert(0,list1.pop(1))\n",
    "print('\\n\\nAfter swaping keys:')\n",
    "print('\\n\\nlist 1: ',list1)\n",
    "print('\\nlist 2: ',list2,end='\\n\\n')\n",
    "tupl3 = tuple(list1)\n",
    "tupl4 = tuple(list2)\n",
    "listf=[]\n",
    "listf.append(tupl3)\n",
    "listf.append(tupl4)\n",
    "tupleFinal=tupl3+tupl4\n",
    "\n",
    "#dictUp=dict(listf)\n",
    "#print('Updated Ditionar',dictUp)\n",
    "#tupleFinal"
   ]
  },
  {
   "cell_type": "code",
   "execution_count": 37,
   "id": "bc8715e7",
   "metadata": {},
   "outputs": [
    {
     "name": "stdout",
     "output_type": "stream",
     "text": [
      "\n",
      "\n",
      "Before Name Sorting\n",
      "list 1:  ['Tigers', ('Ali', 'Farhan', 'Sara')]\n",
      "list 2:  ['Lions', ('Amna', 'Fatima', 'Omar', 'Rafi')]\n",
      "\n",
      "\n",
      "After Name Sorting\n",
      "list 1:  ['Tigers', ('Ali', 'Farhan', 'Sara')]\n",
      "list 1:  ['Lions', ('Amna', 'Fatima', 'Omar', 'Rafi')]\n",
      "\n",
      "\n",
      "\n",
      "fsorted_Name_list:  [['Tigers', ('Ali', 'Farhan', 'Sara')], ['Lions', ('Amna', 'Fatima', 'Omar', 'Rafi')]]\n",
      "['Tigers', ('Ali', 'Farhan', 'Sara')]\n",
      "3\n",
      "['Lions', ('Amna', 'Fatima', 'Omar', 'Rafi')]\n",
      "4\n",
      "f_rooster_list:  [['Lions', ('Amna', 'Fatima', 'Omar', 'Rafi')], ['Tigers', ('Ali', 'Farhan', 'Sara')]]\n",
      "f_rooster_Tuple_list:  [('Lions', ('Amna', 'Fatima', 'Omar', 'Rafi')), ('Tigers', ('Ali', 'Farhan', 'Sara'))]\n",
      "\n",
      "\n",
      "Original Given Dict:  \n",
      " {'Lions': ('Ali', 'Sara', 'Farhan'), 'Tigers': ('Omar', 'Rafi', 'Fatima', 'Amna')}\n",
      "\n",
      "\n",
      "f_rooster_Dictionary_list: \n",
      " {'Lions': ('Amna', 'Fatima', 'Omar', 'Rafi'), 'Tigers': ('Ali', 'Farhan', 'Sara')}\n"
     ]
    }
   ],
   "source": [
    "print('\\n\\nBefore Name Sorting')\n",
    "print('list 1: ',list1)\n",
    "print('list 2: ',list2)\n",
    "list1[1]=tuple(sorted(list1[1]))\n",
    "list2[1]=tuple(sorted(list2[1]))\n",
    "\n",
    "print('\\n\\nAfter Name Sorting')\n",
    "print('list 1: ',list1)\n",
    "print('list 1: ',list2)\n",
    "print('\\n\\n')\n",
    "fsorted_name_lst=[]\n",
    "\n",
    "fsorted_name_lst.append(list1)\n",
    "fsorted_name_lst.append(list2)\n",
    "print('fsorted_Name_list: ', fsorted_name_lst)\n",
    "\n",
    "def lenth(lst):\n",
    "    print(lst)\n",
    "    print(len(lst[1]))\n",
    "    return len(lst[1])\n",
    "\n",
    "f_rooster_list=sorted(fsorted_name_lst,key=lenth, reverse=True)\n",
    "\n",
    "print('f_rooster_list: ',f_rooster_list)\n",
    "\n",
    "f_rooster_list[0]=tuple(f_rooster_list[0])\n",
    "f_rooster_list[1]=tuple(f_rooster_list[1])\n",
    "\n",
    "print('f_rooster_Tuple_list: ',f_rooster_list)\n",
    "\n",
    "\n",
    "f_Dictionary=dict(f_rooster_list)\n",
    "\n",
    "\n",
    "print('\\n\\nOriginal Given Dict:  \\n', teams)\n",
    "print('\\n\\nf_rooster_Dictionary_list: \\n',f_Dictionary)\n",
    "\n",
    "\n",
    "\n"
   ]
  },
  {
   "cell_type": "code",
   "execution_count": null,
   "id": "f0f15e9e",
   "metadata": {},
   "outputs": [],
   "source": [
    "def sortfunc(item):\n",
    "    print(item)\n",
    "    return len(item)\n",
    "\n"
   ]
  },
  {
   "cell_type": "code",
   "execution_count": 7,
   "id": "c30a2fa0",
   "metadata": {},
   "outputs": [
    {
     "name": "stdout",
     "output_type": "stream",
     "text": [
      "['Ali', 'Sara']\n",
      "['Fatima', 'Omar']\n",
      "Sorted Tuple:  ['Tigers', ('Ali', 'Sara'), 'Lions', ('Omar', 'Fatima')]\n",
      "Sorted Tuple:  ('Tigers', ('Ali', 'Sara'), 'Lions', ('Fatima', 'Omar'))\n"
     ]
    }
   ],
   "source": [
    "lMain=list(tupleFinal)\n",
    "l1=list(tupleFinal[1])\n",
    "print(l1)\n",
    "l1=sorted(l1)\n",
    "l2=list(tupleFinal[3])\n",
    "\n",
    "l2=sorted(l2)\n",
    "print(l2)\n",
    "print('Sorted Tuple: ',lMain)\n",
    "lMain[1]=tuple(l1)\n",
    "lMain[3]=tuple(l2)\n",
    "\n",
    "sortd_tpl=tuple(lMain)\n",
    "print('Sorted Tuple: ',sortd_tpl)\n",
    "\n"
   ]
  },
  {
   "cell_type": "code",
   "execution_count": null,
   "id": "cea789bd",
   "metadata": {},
   "outputs": [],
   "source": []
  }
 ],
 "metadata": {
  "kernelspec": {
   "display_name": "base",
   "language": "python",
   "name": "python3"
  },
  "language_info": {
   "codemirror_mode": {
    "name": "ipython",
    "version": 3
   },
   "file_extension": ".py",
   "mimetype": "text/x-python",
   "name": "python",
   "nbconvert_exporter": "python",
   "pygments_lexer": "ipython3",
   "version": "3.13.5"
  }
 },
 "nbformat": 4,
 "nbformat_minor": 5
}
