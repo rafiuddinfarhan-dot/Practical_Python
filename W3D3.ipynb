{
 "cells": [
  {
   "cell_type": "code",
   "execution_count": null,
   "id": "04ea8837",
   "metadata": {},
   "outputs": [
    {
     "name": "stdout",
     "output_type": "stream",
     "text": [
      "true Statement\n",
      "KK\n"
     ]
    }
   ],
   "source": [
    "(3==2) and  print('true Statement')\n",
    "\n",
    "print('KK')"
   ]
  },
  {
   "cell_type": "code",
   "execution_count": null,
   "id": "9b06c86e",
   "metadata": {},
   "outputs": [
    {
     "name": "stdout",
     "output_type": "stream",
     "text": [
      "KK\n"
     ]
    }
   ],
   "source": [
    "if(3==2):\n",
    "    print('true Statement')\n",
    "else:\n",
    "    \n",
    "    print('KK')"
   ]
  },
  {
   "cell_type": "code",
   "execution_count": null,
   "id": "5b92677c",
   "metadata": {},
   "outputs": [
    {
     "name": "stdout",
     "output_type": "stream",
     "text": [
      "not divisibel by both 2 and 5\n"
     ]
    }
   ],
   "source": [
    "x =input (\"enter anumber\")\n",
    "x =int(x)\n",
    "if (x%2==0) and (x%5==0):\n",
    "    print('divisible by both 2 and 5')\n",
    "else:\n",
    "    print(\"not divisible by both 2 and 5\")"
   ]
  },
  {
   "cell_type": "code",
   "execution_count": 8,
   "id": "7e01637f",
   "metadata": {},
   "outputs": [
    {
     "name": "stdout",
     "output_type": "stream",
     "text": [
      "Eligible for vote\n"
     ]
    }
   ],
   "source": [
    "x =input (\"enter anumber\")\n",
    "x =int(x)\n",
    "if (x>=18):\n",
    "    print('Eligible for vote')\n",
    "else:\n",
    "    print(\"not Eligible for vote\")"
   ]
  },
  {
   "cell_type": "code",
   "execution_count": 14,
   "id": "c72e2f0d",
   "metadata": {},
   "outputs": [
    {
     "name": "stdout",
     "output_type": "stream",
     "text": [
      "EVEN\n",
      "Strong pswd\n"
     ]
    }
   ],
   "source": [
    "age =14\n",
    "rv= 'adult' if age>=18 else 'child'\n",
    "\n",
    "nmbr =14\n",
    "evenOdd= 'ODD' if nmbr%2 else 'EVEN'\n",
    "print(evenOdd)\n",
    "\n",
    "pswd =input('enter password')\n",
    "Password= 'Strong pswd' if len(pswd)>=13 else 'Week pswd'\n",
    "print(Password)"
   ]
  },
  {
   "cell_type": "code",
   "execution_count": 43,
   "id": "5ba8136c",
   "metadata": {},
   "outputs": [
    {
     "name": "stdout",
     "output_type": "stream",
     "text": [
      "465465345345 Length:  12\n",
      "No way, you cannot Cheat here\n"
     ]
    }
   ],
   "source": [
    "import string\n",
    "age =float(input('Enter your age: '))\n",
    "if (age>=18):\n",
    "    rv=input('do you have cnic? Y/N ')\n",
    "    if rv=='Y' or rv=='y':\n",
    "        cnic=input('enter CNIc without dashes')\n",
    "        # add one more thing to clean \n",
    "        remove_chars = string.ascii_letters + string.punctuation + string.whitespace \n",
    "\n",
    "        table = str.maketrans('', '', remove_chars)\n",
    "        clean_cnic = cnic.translate(table)\n",
    "        print(clean_cnic,'Length: ', len(clean_cnic))\n",
    "        if  len(clean_cnic)==13:  \n",
    "                print('You can vote')\n",
    "        else:\n",
    "            print('No way, you cannot Cheat here')\n",
    "else:\n",
    "    print('you still need to grow')\n",
    "\n",
    "#print(cnic)"
   ]
  },
  {
   "cell_type": "code",
   "execution_count": 23,
   "id": "66c24c27",
   "metadata": {},
   "outputs": [
    {
     "name": "stdout",
     "output_type": "stream",
     "text": [
      "False\n",
      "False\n",
      "True\n",
      "True\n"
     ]
    }
   ],
   "source": [
    "print(isinstance(14, str))\n",
    "print(isinstance(0, bool))\n",
    "print(isinstance(0, int))\n",
    "print(isinstance(True, bool))\n"
   ]
  },
  {
   "cell_type": "code",
   "execution_count": 42,
   "id": "86ed29d1",
   "metadata": {},
   "outputs": [
    {
     "name": "stdout",
     "output_type": "stream",
     "text": [
      "123456789\n"
     ]
    }
   ],
   "source": [
    "import string\n",
    "cnic = \"ABC-12345-67X89@# \"\n",
    "    \n",
    "#remove_chars = 'QWERTYUIOPASDFGHJKLZXCVBNM' + '-@# ' + string.ascii_letters\n",
    "remove_chars = string.ascii_letters + string.punctuation + string.whitespace\n",
    "\n",
    "table = str.maketrans('', '', remove_chars)\n",
    "clean_cnic = cnic.translate(table)\n",
    "\n",
    "print(clean_cnic)"
   ]
  },
  {
   "cell_type": "code",
   "execution_count": null,
   "id": "4e8d4a76",
   "metadata": {},
   "outputs": [],
   "source": [
    "\n",
    "percentage = float(input(\"Enter your percentage: \"))\n",
    "\n",
    "if percentage >= 95:\n",
    "    grade = \"A+\"\n",
    "elif percentage >= 85:\n",
    "    grade = \"A\"\n",
    "elif percentage >= 80:\n",
    "    grade = \"A-\"\n",
    "elif percentage >= 77:\n",
    "    grade = \"B+\"\n",
    "elif percentage >= 50:\n",
    "    grade = \"D\"\n",
    "else:\n",
    "    grade = \"F\"  # Fail\n",
    "\n",
    "# Display the result\n",
    "print(f\"Your grade is: {grade}\")\n"
   ]
  },
  {
   "cell_type": "code",
   "execution_count": 52,
   "id": "97b27b81",
   "metadata": {},
   "outputs": [
    {
     "name": "stdout",
     "output_type": "stream",
     "text": [
      "{'shop A': {'sales': '500', 'returns': 5}, 'shop B': {'sales': None, 'returns': '3'}}\n",
      "{'sales': '500', 'returns': 5}\n",
      "{'shop A': {'sales': 500, 'returns': 5}, 'shop B': {'sales': 0, 'returns': '3'}}\n"
     ]
    }
   ],
   "source": [
    "sales_data={\n",
    "    \"shop A\":{\"sales\":\"500\",\"returns\":5},\n",
    "    \"shop B\":{\"sales\":None,\"returns\":\"3\"}\n",
    "}\n",
    "print(sales_data)\n",
    "print(sales_data.get('shop A'))\n",
    "\n",
    "if type(sales_data['shop A']['sales'])==int:\n",
    "    pass\n",
    "else:\n",
    "    sales_data['shop A']['sales']=int(sales_data['shop A']['sales'])\n",
    "\n",
    "if sales_data['shop B']['sales']==None:\n",
    "    sales_data['shop B']['sales']=0\n",
    "else:\n",
    "    pass\n",
    "\n",
    "print(sales_data)"
   ]
  },
  {
   "cell_type": "code",
   "execution_count": null,
   "id": "02b956d7",
   "metadata": {},
   "outputs": [],
   "source": []
  }
 ],
 "metadata": {
  "kernelspec": {
   "display_name": "base",
   "language": "python",
   "name": "python3"
  },
  "language_info": {
   "codemirror_mode": {
    "name": "ipython",
    "version": 3
   },
   "file_extension": ".py",
   "mimetype": "text/x-python",
   "name": "python",
   "nbconvert_exporter": "python",
   "pygments_lexer": "ipython3",
   "version": "3.13.5"
  }
 },
 "nbformat": 4,
 "nbformat_minor": 5
}
